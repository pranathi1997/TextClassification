{
  "nbformat": 4,
  "nbformat_minor": 0,
  "metadata": {
    "colab": {
      "name": "Web Scraping Articles.ipynb",
      "provenance": [],
      "collapsed_sections": [],
      "include_colab_link": true
    },
    "kernelspec": {
      "name": "python3",
      "display_name": "Python 3"
    },
    "language_info": {
      "name": "python"
    }
  },
  "cells": [
    {
      "cell_type": "markdown",
      "metadata": {
        "id": "view-in-github",
        "colab_type": "text"
      },
      "source": [
        "<a href=\"https://colab.research.google.com/github/pranathi1997/TextClassification/blob/main/Web_Scraping_Articles.ipynb\" target=\"_parent\"><img src=\"https://colab.research.google.com/assets/colab-badge.svg\" alt=\"Open In Colab\"/></a>"
      ]
    },
    {
      "cell_type": "markdown",
      "metadata": {
        "id": "XZR901drvhlv"
      },
      "source": [
        "### Getting Google News "
      ]
    },
    {
      "cell_type": "code",
      "metadata": {
        "id": "kNNfzEyxp5bL",
        "colab": {
          "base_uri": "https://localhost:8080/"
        },
        "outputId": "677eb01a-7cef-489f-f0a6-15557e8669b9"
      },
      "source": [
        "!pip install -q GoogleNews\n",
        "!pip install -q newspaper3k"
      ],
      "execution_count": 1,
      "outputs": [
        {
          "output_type": "stream",
          "name": "stdout",
          "text": [
            "\u001b[K     |████████████████████████████████| 279 kB 5.2 MB/s \n",
            "\u001b[K     |████████████████████████████████| 211 kB 5.2 MB/s \n",
            "\u001b[K     |████████████████████████████████| 81 kB 6.6 MB/s \n",
            "\u001b[K     |████████████████████████████████| 7.4 MB 49.8 MB/s \n",
            "\u001b[K     |████████████████████████████████| 87 kB 4.1 MB/s \n",
            "\u001b[?25h  Building wheel for tinysegmenter (setup.py) ... \u001b[?25l\u001b[?25hdone\n",
            "  Building wheel for feedfinder2 (setup.py) ... \u001b[?25l\u001b[?25hdone\n",
            "  Building wheel for jieba3k (setup.py) ... \u001b[?25l\u001b[?25hdone\n",
            "  Building wheel for sgmllib3k (setup.py) ... \u001b[?25l\u001b[?25hdone\n"
          ]
        }
      ]
    },
    {
      "cell_type": "code",
      "metadata": {
        "colab": {
          "base_uri": "https://localhost:8080/"
        },
        "id": "fArdndcNpnqP",
        "outputId": "65b46dfb-77bf-4342-abea-258e16ecd58a"
      },
      "source": [
        "from GoogleNews import GoogleNews\n",
        "from newspaper import Config\n",
        "import pandas as pd\n",
        "import nltk\n",
        "#config will allow us to access the specified url for which we are #not authorized. Sometimes we may get 403 client error while parsing #the link to download the article.\n",
        "nltk.download('punkt')\n",
        "\n",
        "user_agent = 'Mozilla/5.0 (Macintosh; Intel Mac OS X 10_11_5) AppleWebKit/537.36 (KHTML, like Gecko) Chrome/50.0.2661.102 Safari/537.36'\n",
        "config = Config()\n",
        "config.browser_user_agent = user_agent\n",
        "googlenews=GoogleNews()\n",
        "filename = \"Bitcoin\"\n",
        "\n",
        "googlenews.search(filename)\n",
        "\n",
        "# Empty Dataframe\n",
        "main = []\n",
        "\n",
        "for pgno in range(1,51):\n",
        "    result = googlenews.page_at(pgno)\n",
        "    main.extend(result)\n",
        "\n",
        "df=pd.DataFrame(main)\n",
        "print(df.head())\n",
        "df.to_csv(filename+\".csv\",encoding='utf-8', index=False)\n"
      ],
      "execution_count": 2,
      "outputs": [
        {
          "output_type": "stream",
          "name": "stdout",
          "text": [
            "[nltk_data] Downloading package punkt to /root/nltk_data...\n",
            "[nltk_data]   Unzipping tokenizers/punkt.zip.\n",
            "'NoneType' object is not iterable\n",
            "'NoneType' object is not iterable\n",
            "'NoneType' object is not iterable\n",
            "'NoneType' object is not iterable\n",
            "'NoneType' object is not iterable\n",
            "'NoneType' object is not iterable\n",
            "'NoneType' object is not iterable\n",
            "'NoneType' object is not iterable\n",
            "'NoneType' object is not iterable\n",
            "'NoneType' object is not iterable\n",
            "'NoneType' object is not iterable\n",
            "'NoneType' object is not iterable\n",
            "                                               title  ...                                                img\n",
            "0  Bitcoin Will Encounter Little Resistance On It...  ...  data:image/gif;base64,R0lGODlhAQABAIAAAP//////...\n",
            "1  Bloomberg senior strategist calls Bitcoin a gl...  ...  data:image/gif;base64,R0lGODlhAQABAIAAAP//////...\n",
            "2                   Bitcoin Is A Brand What It Means  ...  data:image/gif;base64,R0lGODlhAQABAIAAAP//////...\n",
            "3  Why crypto prices on bitcoin, ether have been ...  ...  data:image/gif;base64,R0lGODlhAQABAIAAAP//////...\n",
            "4  7 out of 10 Salvadorans want to repeal the new...  ...  data:image/gif;base64,R0lGODlhAQABAIAAAP//////...\n",
            "\n",
            "[5 rows x 7 columns]\n"
          ]
        }
      ]
    },
    {
      "cell_type": "markdown",
      "metadata": {
        "id": "Q4IXZl5FvoC3"
      },
      "source": [
        "### Merge Files"
      ]
    },
    {
      "cell_type": "code",
      "metadata": {
        "id": "vwPqFTOFvoh_"
      },
      "source": [
        "import pandas as pd\n",
        "\n",
        "autodf = pd.read_csv('Autonomous vehicles.csv')\n",
        "btcdf = pd.read_csv('Bitcoin.csv')\n",
        "coronadf = pd.read_csv('Coronavirus.csv')\n",
        "spacetraveldf = pd.read_csv('Space Travel.csv')\n",
        "\n",
        "autodf['Category'] = \"Autonomous vehicles\"\n",
        "btcdf['Category'] = \"Bitcoin\"\n",
        "coronadf['Category'] = \"Coronavirus\"\n",
        "spacetraveldf['Category'] = \"Space Travel\"\n",
        "\n",
        "autodf.to_csv(\"Autonomous vehicles.csv\",encoding='utf-8', index=False)\n",
        "btcdf.to_csv(\"Bitcoin.csv\",encoding='utf-8', index=False)\n",
        "coronadf.to_csv(\"Coronavirus.csv\",encoding='utf-8', index=False)\n",
        "spacetraveldf.to_csv(\"Space Travel.csv\",encoding='utf-8', index=False)\n"
      ],
      "execution_count": 4,
      "outputs": []
    },
    {
      "cell_type": "markdown",
      "metadata": {
        "id": "OUQAYgxEvkp4"
      },
      "source": [
        "### Merging Files"
      ]
    },
    {
      "cell_type": "code",
      "metadata": {
        "id": "p_DiWI6kvlG1",
        "colab": {
          "base_uri": "https://localhost:8080/"
        },
        "outputId": "596a4797-955c-458e-cd48-6391796dfdba"
      },
      "source": [
        "# importing pandas\n",
        "import pandas as pd\n",
        "\n",
        "# merging two csv files\n",
        "df = pd.concat(\n",
        "    map(pd.read_csv, ['Autonomous vehicles.csv', 'Coronavirus.csv','Space Travel.csv','Bitcoin.csv']), ignore_index=True)\n",
        "print(df.head())\n",
        "df.to_csv(\"final_dataset.csv\",encoding='utf-8', index=False)"
      ],
      "execution_count": 5,
      "outputs": [
        {
          "output_type": "stream",
          "name": "stdout",
          "text": [
            "                                               title  ...             Category\n",
            "0  Facebook Apologizes For Embarrassing Mistake C...  ...  Autonomous vehicles\n",
            "1  EVs In 60ish Seconds: This Week's Interesting ...  ...  Autonomous vehicles\n",
            "2  Why Cupertino Could Get Its Act Together With ...  ...  Autonomous vehicles\n",
            "3  This Is Why Tesla Is Offering Its Self-Driving...  ...  Autonomous vehicles\n",
            "4   Expo 2020 Dubai to drive the future of transport  ...  Autonomous vehicles\n",
            "\n",
            "[5 rows x 8 columns]\n"
          ]
        }
      ]
    }
  ]
}